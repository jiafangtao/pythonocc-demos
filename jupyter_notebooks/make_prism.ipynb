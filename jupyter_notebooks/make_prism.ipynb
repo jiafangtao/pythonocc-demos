{
 "cells": [
  {
   "cell_type": "markdown",
   "metadata": {},
   "source": [
    "# PythonOCC - Example - Topology - Make Prism"
   ]
  },
  {
   "cell_type": "markdown",
   "metadata": {},
   "source": [
    "Example of the ***BRepPrimAPI_MakePrism*** function building linear swept topologies, called prisms.<br>\n",
    "In this example, the prism is defined by a bspline edge which is swept along a vector. \n",
    "The result is a face."
   ]
  },
  {
   "cell_type": "code",
   "execution_count": 1,
   "metadata": {},
   "outputs": [],
   "source": [
    "# imports from OCC.Core\n",
    "from OCC.Core.gp import gp_Pnt, gp_Vec\n",
    "from OCC.Core.GeomAPI import GeomAPI_PointsToBSpline\n",
    "from OCC.Core.TColgp import TColgp_Array1OfPnt\n",
    "from OCC.Core.BRepBuilderAPI import BRepBuilderAPI_MakeEdge\n",
    "from OCC.Core.BRepPrimAPI import BRepPrimAPI_MakePrism"
   ]
  },
  {
   "cell_type": "code",
   "execution_count": 2,
   "metadata": {},
   "outputs": [],
   "source": [
    "# imports from Display and Extend\n",
    "from OCC.Display.WebGl.jupyter_renderer import JupyterRenderer"
   ]
  },
  {
   "cell_type": "markdown",
   "metadata": {},
   "source": [
    "Creation of the Jupyter Renderer"
   ]
  },
  {
   "cell_type": "code",
   "execution_count": 3,
   "metadata": {},
   "outputs": [],
   "source": [
    "my_renderer = JupyterRenderer()"
   ]
  },
  {
   "cell_type": "markdown",
   "metadata": {},
   "source": [
    "Generation of the bspline profile using an array of 5 points. The spline is interpolated through these points."
   ]
  },
  {
   "cell_type": "code",
   "execution_count": 4,
   "metadata": {},
   "outputs": [],
   "source": [
    "# the bspline profile\n",
    "array = TColgp_Array1OfPnt(1, 5)\n",
    "array.SetValue(1, gp_Pnt(0, 0, 0))\n",
    "array.SetValue(2, gp_Pnt(1, 2, 0))\n",
    "array.SetValue(3, gp_Pnt(2, 3, 0))\n",
    "array.SetValue(4, gp_Pnt(4, 3, 0))\n",
    "array.SetValue(5, gp_Pnt(5, 5, 0))\n",
    "bspline = GeomAPI_PointsToBSpline(array).Curve()\n",
    "profile = BRepBuilderAPI_MakeEdge(bspline).Edge()"
   ]
  },
  {
   "cell_type": "markdown",
   "metadata": {},
   "source": [
    "Generation of the linear path."
   ]
  },
  {
   "cell_type": "code",
   "execution_count": 5,
   "metadata": {},
   "outputs": [],
   "source": [
    "# the linear path\n",
    "starting_point = gp_Pnt(0., 0., 0.)\n",
    "end_point = gp_Pnt(0., 0., 6.)\n",
    "vec = gp_Vec(starting_point, end_point)\n",
    "path = BRepBuilderAPI_MakeEdge(starting_point, end_point).Edge()"
   ]
  },
  {
   "cell_type": "markdown",
   "metadata": {},
   "source": [
    "Build the prism model resulting from the bspline extrusion allong the linear path"
   ]
  },
  {
   "cell_type": "code",
   "execution_count": 6,
   "metadata": {},
   "outputs": [],
   "source": [
    "# extrusion\n",
    "prism = BRepPrimAPI_MakePrism(profile, vec).Shape()"
   ]
  },
  {
   "cell_type": "code",
   "execution_count": 7,
   "metadata": {},
   "outputs": [
    {
     "ename": "RuntimeError",
     "evalue": "Standard_OutOfRangeNCollection_AliasedArray::value(), out of range index raised from method Compute of class ShapeTesselator",
     "output_type": "error",
     "traceback": [
      "\u001b[1;31m---------------------------------------------------------------------------\u001b[0m",
      "\u001b[1;31mRuntimeError\u001b[0m                              Traceback (most recent call last)",
      "Cell \u001b[1;32mIn[7], line 1\u001b[0m\n\u001b[1;32m----> 1\u001b[0m \u001b[43mmy_renderer\u001b[49m\u001b[38;5;241;43m.\u001b[39;49m\u001b[43mDisplayShape\u001b[49m\u001b[43m(\u001b[49m\u001b[43mprism\u001b[49m\u001b[43m,\u001b[49m\u001b[43m \u001b[49m\u001b[43mrender_edges\u001b[49m\u001b[38;5;241;43m=\u001b[39;49m\u001b[38;5;28;43;01mTrue\u001b[39;49;00m\u001b[43m)\u001b[49m\n",
      "File \u001b[1;32md:\\Users\\bruce\\miniconda3\\Lib\\site-packages\\OCC\\Display\\WebGl\\jupyter_renderer.py:788\u001b[0m, in \u001b[0;36mJupyterRenderer.DisplayShape\u001b[1;34m(self, shp, shape_color, render_edges, edge_color, edge_deflection, vertex_color, quality, transparency, opacity, topo_level, update, selectable)\u001b[0m\n\u001b[0;32m    786\u001b[0m         output\u001b[38;5;241m.\u001b[39mappend(result)\n\u001b[0;32m    787\u001b[0m \u001b[38;5;28;01melse\u001b[39;00m:\n\u001b[1;32m--> 788\u001b[0m     result \u001b[38;5;241m=\u001b[39m \u001b[38;5;28;43mself\u001b[39;49m\u001b[38;5;241;43m.\u001b[39;49m\u001b[43mAddShapeToScene\u001b[49m\u001b[43m(\u001b[49m\n\u001b[0;32m    789\u001b[0m \u001b[43m        \u001b[49m\u001b[43mshp\u001b[49m\u001b[43m,\u001b[49m\n\u001b[0;32m    790\u001b[0m \u001b[43m        \u001b[49m\u001b[43mshape_color\u001b[49m\u001b[43m,\u001b[49m\n\u001b[0;32m    791\u001b[0m \u001b[43m        \u001b[49m\u001b[43mrender_edges\u001b[49m\u001b[43m,\u001b[49m\n\u001b[0;32m    792\u001b[0m \u001b[43m        \u001b[49m\u001b[43medge_color\u001b[49m\u001b[43m,\u001b[49m\n\u001b[0;32m    793\u001b[0m \u001b[43m        \u001b[49m\u001b[43mvertex_color\u001b[49m\u001b[43m,\u001b[49m\n\u001b[0;32m    794\u001b[0m \u001b[43m        \u001b[49m\u001b[43mquality\u001b[49m\u001b[43m,\u001b[49m\n\u001b[0;32m    795\u001b[0m \u001b[43m        \u001b[49m\u001b[43mtransparency\u001b[49m\u001b[43m,\u001b[49m\n\u001b[0;32m    796\u001b[0m \u001b[43m        \u001b[49m\u001b[43mopacity\u001b[49m\u001b[43m,\u001b[49m\n\u001b[0;32m    797\u001b[0m \u001b[43m    \u001b[49m\u001b[43m)\u001b[49m\n\u001b[0;32m    798\u001b[0m     output\u001b[38;5;241m.\u001b[39mappend(result)\n\u001b[0;32m    800\u001b[0m \u001b[38;5;28;01mif\u001b[39;00m selectable:  \u001b[38;5;66;03m# Add geometries to pickable or non pickable objects\u001b[39;00m\n",
      "File \u001b[1;32md:\\Users\\bruce\\miniconda3\\Lib\\site-packages\\OCC\\Display\\WebGl\\jupyter_renderer.py:874\u001b[0m, in \u001b[0;36mJupyterRenderer.AddShapeToScene\u001b[1;34m(self, shp, shape_color, render_edges, edge_color, vertex_color, quality, transparency, opacity)\u001b[0m\n\u001b[0;32m    861\u001b[0m \u001b[38;5;28;01mdef\u001b[39;00m \u001b[38;5;21mAddShapeToScene\u001b[39m(\n\u001b[0;32m    862\u001b[0m     \u001b[38;5;28mself\u001b[39m,\n\u001b[0;32m    863\u001b[0m     shp,\n\u001b[1;32m   (...)\u001b[0m\n\u001b[0;32m    871\u001b[0m ):\n\u001b[0;32m    872\u001b[0m     \u001b[38;5;66;03m# first, compute the tessellation\u001b[39;00m\n\u001b[0;32m    873\u001b[0m     tess \u001b[38;5;241m=\u001b[39m ShapeTesselator(shp)\n\u001b[1;32m--> 874\u001b[0m     \u001b[43mtess\u001b[49m\u001b[38;5;241;43m.\u001b[39;49m\u001b[43mCompute\u001b[49m\u001b[43m(\u001b[49m\u001b[43mcompute_edges\u001b[49m\u001b[38;5;241;43m=\u001b[39;49m\u001b[43mrender_edges\u001b[49m\u001b[43m,\u001b[49m\u001b[43m \u001b[49m\u001b[43mmesh_quality\u001b[49m\u001b[38;5;241;43m=\u001b[39;49m\u001b[43mquality\u001b[49m\u001b[43m,\u001b[49m\u001b[43m \u001b[49m\u001b[43mparallel\u001b[49m\u001b[38;5;241;43m=\u001b[39;49m\u001b[38;5;28;43;01mTrue\u001b[39;49;00m\u001b[43m)\u001b[49m\n\u001b[0;32m    875\u001b[0m     \u001b[38;5;66;03m# get vertices and normals\u001b[39;00m\n\u001b[0;32m    876\u001b[0m     vertices_position \u001b[38;5;241m=\u001b[39m tess\u001b[38;5;241m.\u001b[39mGetVerticesPositionAsTuple()\n",
      "File \u001b[1;32md:\\Users\\bruce\\miniconda3\\Lib\\site-packages\\OCC\\Core\\Tesselator.py:250\u001b[0m, in \u001b[0;36mShapeTesselator.Compute\u001b[1;34m(self, compute_edges, mesh_quality, parallel)\u001b[0m\n\u001b[0;32m    248\u001b[0m \u001b[38;5;28;01mdef\u001b[39;00m \u001b[38;5;21mCompute\u001b[39m(\u001b[38;5;28mself\u001b[39m, compute_edges: \u001b[38;5;124m\"\u001b[39m\u001b[38;5;124mbool\u001b[39m\u001b[38;5;124m\"\u001b[39m\u001b[38;5;241m=\u001b[39m\u001b[38;5;28;01mFalse\u001b[39;00m, mesh_quality: \u001b[38;5;124m\"\u001b[39m\u001b[38;5;124mfloat\u001b[39m\u001b[38;5;124m\"\u001b[39m\u001b[38;5;241m=\u001b[39m\u001b[38;5;241m1.0\u001b[39m, parallel: \u001b[38;5;124m\"\u001b[39m\u001b[38;5;124mbool\u001b[39m\u001b[38;5;124m\"\u001b[39m\u001b[38;5;241m=\u001b[39m\u001b[38;5;28;01mFalse\u001b[39;00m) \u001b[38;5;241m-\u001b[39m\u001b[38;5;241m>\u001b[39m \u001b[38;5;124m\"\u001b[39m\u001b[38;5;124mvoid\u001b[39m\u001b[38;5;124m\"\u001b[39m:\n\u001b[0;32m    249\u001b[0m \u001b[38;5;250m    \u001b[39m\u001b[38;5;124mr\u001b[39m\u001b[38;5;124;03m\"\"\"Compute(ShapeTesselator self, bool compute_edges=False, float mesh_quality=1.0, bool parallel=False)\"\"\"\u001b[39;00m\n\u001b[1;32m--> 250\u001b[0m     \u001b[38;5;28;01mreturn\u001b[39;00m \u001b[43m_Tesselator\u001b[49m\u001b[38;5;241;43m.\u001b[39;49m\u001b[43mShapeTesselator_Compute\u001b[49m\u001b[43m(\u001b[49m\u001b[38;5;28;43mself\u001b[39;49m\u001b[43m,\u001b[49m\u001b[43m \u001b[49m\u001b[43mcompute_edges\u001b[49m\u001b[43m,\u001b[49m\u001b[43m \u001b[49m\u001b[43mmesh_quality\u001b[49m\u001b[43m,\u001b[49m\u001b[43m \u001b[49m\u001b[43mparallel\u001b[49m\u001b[43m)\u001b[49m\n",
      "\u001b[1;31mRuntimeError\u001b[0m: Standard_OutOfRangeNCollection_AliasedArray::value(), out of range index raised from method Compute of class ShapeTesselator"
     ]
    }
   ],
   "source": [
    "my_renderer.DisplayShape(prism, render_edges=True)"
   ]
  },
  {
   "cell_type": "code",
   "execution_count": 8,
   "metadata": {},
   "outputs": [
    {
     "data": {
      "application/vnd.jupyter.widget-view+json": {
       "model_id": "3b76d6c890ac48359acafab94b45e119",
       "version_major": 2,
       "version_minor": 0
      },
      "text/plain": [
       "HBox(children=(VBox(children=(HBox(children=(Checkbox(value=True, description='Axes', layout=Layout(height='au…"
      ]
     },
     "metadata": {},
     "output_type": "display_data"
    }
   ],
   "source": [
    "my_renderer.Display()"
   ]
  }
 ],
 "metadata": {
  "kernelspec": {
   "display_name": "Python 3 (ipykernel)",
   "language": "python",
   "name": "python3"
  },
  "language_info": {
   "codemirror_mode": {
    "name": "ipython",
    "version": 3
   },
   "file_extension": ".py",
   "mimetype": "text/x-python",
   "name": "python",
   "nbconvert_exporter": "python",
   "pygments_lexer": "ipython3",
   "version": "3.11.4"
  }
 },
 "nbformat": 4,
 "nbformat_minor": 4
}
